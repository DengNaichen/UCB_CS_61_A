{
 "metadata": {
  "language_info": {
   "codemirror_mode": {
    "name": "ipython",
    "version": 3
   },
   "file_extension": ".py",
   "mimetype": "text/x-python",
   "name": "python",
   "nbconvert_exporter": "python",
   "pygments_lexer": "ipython3",
   "version": "3.8.5-final"
  },
  "orig_nbformat": 2,
  "kernelspec": {
   "name": "python3",
   "display_name": "Python 3",
   "language": "python"
  }
 },
 "nbformat": 4,
 "nbformat_minor": 2,
 "cells": [
  {
   "source": [
    "## The Fibonacci Sequence"
   ],
   "cell_type": "markdown",
   "metadata": {}
  },
  {
   "cell_type": "code",
   "execution_count": 6,
   "metadata": {},
   "outputs": [],
   "source": [
    "def fib(n):\n",
    "    pred, curr = 0, 1\n",
    "    k = 1\n",
    "    while k < n:\n",
    "        pred, curr = curr, curr + pred\n",
    "        k += 1\n",
    "    return curr\n",
    "## Java 的教程里也有一摸一样的，但是怎么用3行写出来呢？"
   ]
  },
  {
   "cell_type": "code",
   "execution_count": 8,
   "metadata": {},
   "outputs": [
    {
     "output_type": "execute_result",
     "data": {
      "text/plain": [
       "55"
      ]
     },
     "metadata": {},
     "execution_count": 8
    }
   ],
   "source": [
    "fib (10)"
   ]
  },
  {
   "cell_type": "code",
   "execution_count": 9,
   "metadata": {},
   "outputs": [],
   "source": [
    "\n",
    "def fib(n):\n",
    "    ## better version\n",
    "    pred, curr = 1, 0\n",
    "    k = 0 # by changing this two line, we can include the first one of sequence\n",
    "    while k < n:\n",
    "        pred, curr = curr, curr + pred\n",
    "        k += 1\n",
    "    return curr"
   ]
  },
  {
   "source": [
    "## Design Functions"
   ],
   "cell_type": "markdown",
   "metadata": {}
  },
  {
   "cell_type": "code",
   "execution_count": 10,
   "metadata": {},
   "outputs": [],
   "source": [
    "# characteristics of Functions\n",
    "# a function's domain is the set of all inputs it might possibly take as arguments\n",
    "# A function's range is the set of output values it might possibly return.\n",
    "# a pure function's behavior is the relationship it creates between input and output."
   ]
  },
  {
   "cell_type": "code",
   "execution_count": 11,
   "metadata": {},
   "outputs": [],
   "source": [
    "# a guide to designing function\n",
    "# given each functions exvatly one job\n",
    "# don't repread your self. implement a process just once, but execute it many times\n",
    "# define function generally."
   ]
  },
  {
   "source": [
    "# Higher-Order Functions"
   ],
   "cell_type": "markdown",
   "metadata": {}
  },
  {
   "cell_type": "code",
   "execution_count": 12,
   "metadata": {},
   "outputs": [],
   "source": [
    "# Generalizing patterns with arguements"
   ]
  },
  {
   "cell_type": "code",
   "execution_count": 14,
   "metadata": {},
   "outputs": [],
   "source": [
    "from math import pi\n",
    "\n",
    "def area(r, shape_constant):\n",
    "    assert r > 0, \"A lenght must be positive\"\n",
    "    return r * r * shape_constant\n",
    "\n",
    "def area_square(r):\n",
    "    assert r > 0, \"A lenght must be positive\"\n",
    "    # return r * r\n",
    "    return area(r, 1)\n",
    "\n",
    "def area_circle(r):\n",
    "    # will repeat myself\n",
    "    # return r * r * pi\n",
    "    return area(r, pi)\n",
    "\n",
    "def area_hexagon(r):\n",
    "    # return r * r * 3 * sqrt(3) /2\n",
    "    return area(r, 3 * sqrt(3) /2)"
   ]
  },
  {
   "cell_type": "code",
   "execution_count": 15,
   "metadata": {},
   "outputs": [],
   "source": [
    "# the common structure among functions may be a computational process, rather that a number"
   ]
  },
  {
   "cell_type": "code",
   "execution_count": 16,
   "metadata": {},
   "outputs": [],
   "source": [
    "def sum_naturals (n):\n",
    "    \"\"\"sum the first n Natural number\n",
    "    >>> sun_naturals(5)\n",
    "    15\n",
    "    \"\"\"\n",
    "    total, k = 0 ,1\n",
    "    while k <= n:\n",
    "        total, k = total + k, k + 1\n",
    "    return total"
   ]
  },
  {
   "cell_type": "code",
   "execution_count": 18,
   "metadata": {},
   "outputs": [],
   "source": [
    "def sum_cube(n):\n",
    "    \"\"\"sum the first n cubes Natural number\n",
    "    >>> sun_naturals(5)\n",
    "    225\n",
    "    \"\"\"\n",
    "    total, k = 0 ,1\n",
    "    while k <= n:\n",
    "        total, k = total + k**3, k + 1\n",
    "    return total"
   ]
  },
  {
   "cell_type": "code",
   "execution_count": 19,
   "metadata": {},
   "outputs": [
    {
     "output_type": "execute_result",
     "data": {
      "text/plain": [
       "225"
      ]
     },
     "metadata": {},
     "execution_count": 19
    }
   ],
   "source": [
    "sum_cube(5)"
   ]
  },
  {
   "cell_type": "code",
   "execution_count": 20,
   "metadata": {},
   "outputs": [],
   "source": [
    "def identity(k):\n",
    "    return k"
   ]
  },
  {
   "cell_type": "code",
   "execution_count": 21,
   "metadata": {},
   "outputs": [],
   "source": [
    "def cube(k):\n",
    "    return pow(k, 3)"
   ]
  },
  {
   "cell_type": "code",
   "execution_count": 27,
   "metadata": {},
   "outputs": [],
   "source": [
    "def summation(n ,term):\n",
    "    \"\"\"sum the first N terms of a sequence\n",
    "    >>> summmation (5, cube)\n",
    "    225\n",
    "    \"\"\"\n",
    "    total, k = 0 , 1\n",
    "    while k <= n:\n",
    "        total, k = total + term(k), k + 1 # so the term(k) is a function, and the summation is a functions of a fucntion (a function takes another function as formal parameters)\n",
    "    return total"
   ]
  },
  {
   "cell_type": "code",
   "execution_count": 28,
   "metadata": {},
   "outputs": [],
   "source": [
    "def sum_naturals (n):\n",
    "    return summation(n, identity)"
   ]
  },
  {
   "cell_type": "code",
   "execution_count": 29,
   "metadata": {},
   "outputs": [],
   "source": [
    "def sum_cubes(n):\n",
    "    return summation(n , cube)"
   ]
  },
  {
   "cell_type": "code",
   "execution_count": 30,
   "metadata": {},
   "outputs": [
    {
     "output_type": "execute_result",
     "data": {
      "text/plain": [
       "225"
      ]
     },
     "metadata": {},
     "execution_count": 30
    }
   ],
   "source": [
    "sum_cubes(5)"
   ]
  },
  {
   "cell_type": "code",
   "execution_count": 32,
   "metadata": {},
   "outputs": [],
   "source": [
    "def make_adder(n):\n",
    "    \"\"\"return a function that take one number\"\"\"\n",
    "    def adder(k):\n",
    "        return k + n\n",
    "    return adder"
   ]
  },
  {
   "cell_type": "code",
   "execution_count": 34,
   "metadata": {},
   "outputs": [
    {
     "output_type": "execute_result",
     "data": {
      "text/plain": [
       "3"
      ]
     },
     "metadata": {},
     "execution_count": 34
    }
   ],
   "source": [
    "make_adder(1) (2)"
   ]
  },
  {
   "cell_type": "code",
   "execution_count": 35,
   "metadata": {},
   "outputs": [
    {
     "output_type": "execute_result",
     "data": {
      "text/plain": [
       "6"
      ]
     },
     "metadata": {},
     "execution_count": 35
    }
   ],
   "source": [
    "f = make_adder(3)\n",
    "f(3)"
   ]
  },
  {
   "cell_type": "code",
   "execution_count": null,
   "metadata": {},
   "outputs": [],
   "source": []
  }
 ]
}